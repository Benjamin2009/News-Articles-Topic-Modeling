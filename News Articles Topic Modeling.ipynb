{
 "cells": [
  {
   "cell_type": "markdown",
   "id": "0844cfa5",
   "metadata": {},
   "source": [
    "# <div style = 'background:#E69138; border:2; border-radius: 10px; font-size:150%; font-weight: bold;color:white'> <center> News Articles Topic Modeling </div>"
   ]
  },
  {
   "cell_type": "markdown",
   "id": "30760985",
   "metadata": {},
   "source": [
    "<img src=\"https://images.unsplash.com/photo-1504711434969-e33886168f5c?ixlib=rb-4.0.3&ixid=MnwxMjA3fDB8MHxwaG90by1wYWdlfHx8fGVufDB8fHx8&auto=format&fit=crop&w=1170&q=80\"/>"
   ]
  },
  {
   "cell_type": "markdown",
   "id": "eb7d9feb",
   "metadata": {},
   "source": [
    "<a id = \"table\"></a>\n",
    "# <center><div style=\"border-radius : 10px; background-color: #E69138; color: white; padding: 12px; line-height: 0.8;\">Table of Contents</div></center>\n",
    "\n",
    "### [**1. Introduction**](#title-one)\n",
    "\n",
    "### [**2. Exploratory Data Analysis**](#title-two)\n",
    "\n",
    "### [**3. Text Preprocessing (NLP)**](#title-three)\n",
    "\n",
    "### [**4. Model Building & Training**](#title-four) \n",
    "\n",
    "### [**5. Conclusions**](#title-five)\n",
    "\n",
    "### [**6. Reference**](#title-six)"
   ]
  },
  {
   "cell_type": "markdown",
   "id": "b5d8b56e",
   "metadata": {},
   "source": [
    "<a id = \"title-one\"></a>\n",
    "# <center><div style=\"border-radius : 10px; background-color: #E69138; color: white; padding: 12px; line-height: 0.6;\">Introduction</div></center>\n",
    "Topic modeling is to identify patterns in a text corpus that correspond to document topics. Here we will use a public [dataset](https://www.kaggle.com/competitions/learn-ai-bbc/data) from the BBC comprised of 2225 articles, each labeled under one of 5 categories: business, entertainment, politics, sport or tech. This dataset is one of the standard benchmarks in machine learning research, and is available for non-commercial and research purposes.\n",
    "\n",
    "The goal will be to build models that can accurately mine hidden topics from previously unseen news articles. We will build both supervised and unsupervised models and then compare their performance. "
   ]
  },
  {
   "cell_type": "markdown",
   "id": "84f8828d",
   "metadata": {},
   "source": [
    "<a id = \"title-two\"></a>\n",
    "# <center><div style=\"border-radius : 10px; background-color: #E69138; color: white; padding: 12px; line-height: 0.6;\">Exploratory Data Analysis</div></center>"
   ]
  },
  {
   "cell_type": "markdown",
   "id": "a4b74b61",
   "metadata": {},
   "source": [
    "### Importing Necessary Libraries"
   ]
  },
  {
   "cell_type": "code",
   "execution_count": 1,
   "id": "af02b9ec",
   "metadata": {},
   "outputs": [
    {
     "name": "stderr",
     "output_type": "stream",
     "text": [
      "[nltk_data] Downloading package names to\n",
      "[nltk_data]     /Users/bensmacbookpro/nltk_data...\n",
      "[nltk_data]   Package names is already up-to-date!\n",
      "[nltk_data] Downloading package wordnet to\n",
      "[nltk_data]     /Users/bensmacbookpro/nltk_data...\n",
      "[nltk_data]   Package wordnet is already up-to-date!\n",
      "[nltk_data] Downloading package omw-1.4 to\n",
      "[nltk_data]     /Users/bensmacbookpro/nltk_data...\n",
      "[nltk_data]   Package omw-1.4 is already up-to-date!\n"
     ]
    }
   ],
   "source": [
    "%matplotlib inline\n",
    "import numpy as np\n",
    "import pandas as pd\n",
    "import matplotlib.pyplot as plt\n",
    "from matplotlib import style; style.use('ggplot')\n",
    "plt.rc('axes', titlesize=18)     \n",
    "plt.rc('axes', labelsize=14)   \n",
    "plt.rc('xtick', labelsize=12)    \n",
    "plt.rc('ytick', labelsize=12)    \n",
    "plt.rc('legend', fontsize=12)    \n",
    "plt.rc('font', size=13)          \n",
    "import seaborn as sns\n",
    "sns.set_style('darkgrid') \n",
    "from sklearn.decomposition import NMF\n",
    "from sklearn.feature_extraction.text import TfidfVectorizer\n",
    "import itertools\n",
    "from sklearn.metrics import accuracy_score, confusion_matrix\n",
    "from sklearn.feature_extraction import _stop_words\n",
    "import nltk\n",
    "nltk.download('names')\n",
    "nltk.download('wordnet')\n",
    "nltk.download('omw-1.4')\n",
    "from nltk.stem import WordNetLemmatizer\n",
    "from nltk.corpus import names\n",
    "from sklearn.preprocessing import LabelEncoder\n",
    "from sklearn.model_selection import train_test_split\n",
    "from sklearn.ensemble import RandomForestClassifier\n",
    "from sklearn.linear_model import LogisticRegression\n",
    "import warnings\n",
    "warnings.filterwarnings('ignore')"
   ]
  },
  {
   "cell_type": "markdown",
   "id": "c9d5c881",
   "metadata": {},
   "source": [
    "### Reading Data"
   ]
  },
  {
   "cell_type": "code",
   "execution_count": 2,
   "id": "3025ae29",
   "metadata": {},
   "outputs": [],
   "source": [
    "# To aovid any postional issues, I downloaded the files and read them locally.\n",
    "train = pd.read_csv('BBC News Train.csv')\n",
    "test = pd.read_csv('BBC News Test.csv')\n",
    "sample_solutions = pd.read_csv('BBC News Sample Solution.csv')"
   ]
  },
  {
   "cell_type": "markdown",
   "id": "26c02ea2",
   "metadata": {},
   "source": [
    "Let's take a quick look at the train data. "
   ]
  },
  {
   "cell_type": "code",
   "execution_count": 3,
   "id": "4ed29d8a",
   "metadata": {},
   "outputs": [
    {
     "data": {
      "text/html": [
       "<div>\n",
       "<style scoped>\n",
       "    .dataframe tbody tr th:only-of-type {\n",
       "        vertical-align: middle;\n",
       "    }\n",
       "\n",
       "    .dataframe tbody tr th {\n",
       "        vertical-align: top;\n",
       "    }\n",
       "\n",
       "    .dataframe thead th {\n",
       "        text-align: right;\n",
       "    }\n",
       "</style>\n",
       "<table border=\"1\" class=\"dataframe\">\n",
       "  <thead>\n",
       "    <tr style=\"text-align: right;\">\n",
       "      <th></th>\n",
       "      <th>ArticleId</th>\n",
       "      <th>Text</th>\n",
       "      <th>Category</th>\n",
       "    </tr>\n",
       "  </thead>\n",
       "  <tbody>\n",
       "    <tr>\n",
       "      <th>832</th>\n",
       "      <td>1877</td>\n",
       "      <td>blair joins school sailing trip the prime mini...</td>\n",
       "      <td>politics</td>\n",
       "    </tr>\n",
       "    <tr>\n",
       "      <th>775</th>\n",
       "      <td>995</td>\n",
       "      <td>jones medals  must go if guilty  world anti-do...</td>\n",
       "      <td>sport</td>\n",
       "    </tr>\n",
       "    <tr>\n",
       "      <th>64</th>\n",
       "      <td>315</td>\n",
       "      <td>two nigerian banks set to merge nigerian banks...</td>\n",
       "      <td>business</td>\n",
       "    </tr>\n",
       "    <tr>\n",
       "      <th>1445</th>\n",
       "      <td>1511</td>\n",
       "      <td>soros group warns of kazakh close the open soc...</td>\n",
       "      <td>business</td>\n",
       "    </tr>\n",
       "    <tr>\n",
       "      <th>228</th>\n",
       "      <td>1098</td>\n",
       "      <td>ask jeeves joins web log market ask jeeves has...</td>\n",
       "      <td>tech</td>\n",
       "    </tr>\n",
       "    <tr>\n",
       "      <th>1185</th>\n",
       "      <td>1815</td>\n",
       "      <td>disputed nirvana box set on sale a box set fea...</td>\n",
       "      <td>entertainment</td>\n",
       "    </tr>\n",
       "    <tr>\n",
       "      <th>901</th>\n",
       "      <td>241</td>\n",
       "      <td>retail sales show festive fervour uk retail sa...</td>\n",
       "      <td>business</td>\n",
       "    </tr>\n",
       "    <tr>\n",
       "      <th>850</th>\n",
       "      <td>2072</td>\n",
       "      <td>lesotho textile workers lose jobs six foreign-...</td>\n",
       "      <td>business</td>\n",
       "    </tr>\n",
       "    <tr>\n",
       "      <th>9</th>\n",
       "      <td>1866</td>\n",
       "      <td>fockers fuel festive film chart comedy meet th...</td>\n",
       "      <td>entertainment</td>\n",
       "    </tr>\n",
       "    <tr>\n",
       "      <th>1201</th>\n",
       "      <td>1808</td>\n",
       "      <td>english clubs make euro history all four of en...</td>\n",
       "      <td>sport</td>\n",
       "    </tr>\n",
       "  </tbody>\n",
       "</table>\n",
       "</div>"
      ],
      "text/plain": [
       "      ArticleId                                               Text  \\\n",
       "832        1877  blair joins school sailing trip the prime mini...   \n",
       "775         995  jones medals  must go if guilty  world anti-do...   \n",
       "64          315  two nigerian banks set to merge nigerian banks...   \n",
       "1445       1511  soros group warns of kazakh close the open soc...   \n",
       "228        1098  ask jeeves joins web log market ask jeeves has...   \n",
       "1185       1815  disputed nirvana box set on sale a box set fea...   \n",
       "901         241  retail sales show festive fervour uk retail sa...   \n",
       "850        2072  lesotho textile workers lose jobs six foreign-...   \n",
       "9          1866  fockers fuel festive film chart comedy meet th...   \n",
       "1201       1808  english clubs make euro history all four of en...   \n",
       "\n",
       "           Category  \n",
       "832        politics  \n",
       "775           sport  \n",
       "64         business  \n",
       "1445       business  \n",
       "228            tech  \n",
       "1185  entertainment  \n",
       "901        business  \n",
       "850        business  \n",
       "9     entertainment  \n",
       "1201          sport  "
      ]
     },
     "execution_count": 3,
     "metadata": {},
     "output_type": "execute_result"
    }
   ],
   "source": [
    "train.sample(10)"
   ]
  },
  {
   "cell_type": "markdown",
   "id": "3c0122a3",
   "metadata": {},
   "source": [
    "### Data Cleaning"
   ]
  },
  {
   "cell_type": "code",
   "execution_count": 4,
   "id": "ebd3cf0c",
   "metadata": {},
   "outputs": [
    {
     "name": "stdout",
     "output_type": "stream",
     "text": [
      "<class 'pandas.core.frame.DataFrame'>\n",
      "RangeIndex: 1490 entries, 0 to 1489\n",
      "Data columns (total 3 columns):\n",
      " #   Column     Non-Null Count  Dtype \n",
      "---  ------     --------------  ----- \n",
      " 0   ArticleId  1490 non-null   int64 \n",
      " 1   Text       1490 non-null   object\n",
      " 2   Category   1490 non-null   object\n",
      "dtypes: int64(1), object(2)\n",
      "memory usage: 35.0+ KB\n"
     ]
    }
   ],
   "source": [
    "train.info()"
   ]
  },
  {
   "cell_type": "markdown",
   "id": "516e867b",
   "metadata": {},
   "source": [
    "We can see that there are no **null values**. Now let's check if there are any **duplicates**."
   ]
  },
  {
   "cell_type": "code",
   "execution_count": 5,
   "id": "46743258",
   "metadata": {},
   "outputs": [
    {
     "data": {
      "text/plain": [
       "False"
      ]
     },
     "execution_count": 5,
     "metadata": {},
     "output_type": "execute_result"
    }
   ],
   "source": [
    "train['ArticleId'].duplicated().any()"
   ]
  },
  {
   "cell_type": "code",
   "execution_count": 6,
   "id": "9ddd148c",
   "metadata": {},
   "outputs": [
    {
     "data": {
      "text/plain": [
       "True"
      ]
     },
     "execution_count": 6,
     "metadata": {},
     "output_type": "execute_result"
    }
   ],
   "source": [
    "train['Text'].duplicated().any()"
   ]
  },
  {
   "cell_type": "markdown",
   "id": "5fd6b2a8",
   "metadata": {},
   "source": [
    "Let's drop the **duplicates** in `Text`. "
   ]
  },
  {
   "cell_type": "code",
   "execution_count": 7,
   "id": "84bb71f9",
   "metadata": {},
   "outputs": [
    {
     "data": {
      "text/plain": [
       "0       worldcom ex-boss launches defence lawyers defe...\n",
       "1       german business confidence slides german busin...\n",
       "2       bbc poll indicates economic gloom citizens in ...\n",
       "3       lifestyle  governs mobile choice  faster  bett...\n",
       "4       enron bosses in $168m payout eighteen former e...\n",
       "                              ...                        \n",
       "1485    double eviction from big brother model caprice...\n",
       "1486    dj double act revamp chart show dj duo jk and ...\n",
       "1487    weak dollar hits reuters revenues at media gro...\n",
       "1488    apple ipod family expands market apple has exp...\n",
       "1489    santy worm makes unwelcome visit thousands of ...\n",
       "Name: Text, Length: 1440, dtype: object"
      ]
     },
     "execution_count": 7,
     "metadata": {},
     "output_type": "execute_result"
    }
   ],
   "source": [
    "train['Text'].drop_duplicates()"
   ]
  },
  {
   "cell_type": "markdown",
   "id": "c0c7baae",
   "metadata": {},
   "source": [
    "### Getting to Know Data"
   ]
  },
  {
   "cell_type": "markdown",
   "id": "b9f044b8",
   "metadata": {},
   "source": [
    "According to the description, there are **five categories**. Let's double check. "
   ]
  },
  {
   "cell_type": "code",
   "execution_count": 8,
   "id": "6bf15b55",
   "metadata": {},
   "outputs": [
    {
     "data": {
      "text/plain": [
       "array(['business', 'entertainment', 'politics', 'sport', 'tech'],\n",
       "      dtype=object)"
      ]
     },
     "execution_count": 8,
     "metadata": {},
     "output_type": "execute_result"
    }
   ],
   "source": [
    "np.unique(train['Category'])"
   ]
  },
  {
   "cell_type": "markdown",
   "id": "6b2d59fe",
   "metadata": {},
   "source": [
    "The five categories are **business**, **entertainment**, **politics**, **sport**, **tech**. \n",
    "\n",
    "Let's check the number of articles in each category. "
   ]
  },
  {
   "cell_type": "code",
   "execution_count": 9,
   "id": "466a0bc7",
   "metadata": {},
   "outputs": [
    {
     "data": {
      "text/plain": [
       "Category\n",
       "business         336\n",
       "entertainment    273\n",
       "politics         274\n",
       "sport            346\n",
       "tech             261\n",
       "Name: ArticleId, dtype: int64"
      ]
     },
     "execution_count": 9,
     "metadata": {},
     "output_type": "execute_result"
    }
   ],
   "source": [
    "train.groupby('Category').ArticleId.count()"
   ]
  },
  {
   "cell_type": "markdown",
   "id": "856209b4",
   "metadata": {},
   "source": [
    "It might be easier to visualize the category distribution using a bar graph. "
   ]
  },
  {
   "cell_type": "code",
   "execution_count": 10,
   "id": "413dff57",
   "metadata": {},
   "outputs": [
    {
     "data": {
      "image/png": "[encoded data removed]",
      "text/plain": [
       "<Figure size 700x300 with 1 Axes>"
      ]
     },
     "metadata": {},
     "output_type": "display_data"
    }
   ],
   "source": [
    "fig, ax = plt.subplots(figsize=(7, 3))\n",
    "sns.countplot(data = train, x='Category')\n",
    "plt.title('Category Distribution')\n",
    "plt.show()"
   ]
  },
  {
   "cell_type": "markdown",
   "id": "821eec20",
   "metadata": {},
   "source": [
    "As shown above, different categories have similar amount of articles, so we don't need to worry about imbalance issue. Now let's check the word count."
   ]
  },
  {
   "cell_type": "code",
   "execution_count": 11,
   "id": "ba3c9a0c",
   "metadata": {},
   "outputs": [
    {
     "data": {
      "image/png": "[encoded data removed]",
      "text/plain": [
       "<Figure size 1500x600 with 1 Axes>"
      ]
     },
     "metadata": {},
     "output_type": "display_data"
    }
   ],
   "source": [
    "word_counts = []\n",
    "word_counts.append(len(text.split()) for text in train['Text'])\n",
    "fig, ax = plt.subplots(figsize=(15, 6))\n",
    "sns.histplot(word_counts, kde=True, legend =False)\n",
    "plt.title('Word Count Distribution')\n",
    "plt.show()               "
   ]
  },
  {
   "cell_type": "markdown",
   "id": "f22a4b3f",
   "metadata": {},
   "source": [
    "The above histogram shows the overall word count distribution. Now let's check the word count distribution in each category. "
   ]
  },
  {
   "cell_type": "code",
   "execution_count": 12,
   "id": "fe73dacd",
   "metadata": {},
   "outputs": [
    {
     "data": {
      "image/png": "[encoded data removed]",
      "text/plain": [
       "<Figure size 1500x600 with 1 Axes>"
      ]
     },
     "metadata": {},
     "output_type": "display_data"
    }
   ],
   "source": [
    "train['word_counts'] = train['Text'].str.len()\n",
    "fig, ax = plt.subplots(figsize=(15, 6))\n",
    "sns.kdeplot(data = train, x='word_counts', hue='Category',fill=True)\n",
    "plt.title('Word Count Distribution in Different Categories')\n",
    "plt.show() "
   ]
  },
  {
   "cell_type": "markdown",
   "id": "7e87b9b8",
   "metadata": {},
   "source": [
    "<a id = \"title-three\"></a>\n",
    "# <center><div style=\"border-radius : 10px; background-color: #E69138; color: white; padding: 12px; line-height: 0.6;\">Text Preprocessing (NLP)</div></center>"
   ]
  },
  {
   "cell_type": "markdown",
   "id": "0e48996d",
   "metadata": {},
   "source": [
    "### Removing Stop Words"
   ]
  },
  {
   "cell_type": "markdown",
   "id": "eb3f7a1a",
   "metadata": {},
   "source": [
    "Stop words are those common words that provide little value in helping to differentiate documents (see the list below). In general, stop words add noise to the Bag of Words (BoW) model and can be removed. We don't remove stop words at this step. We will just need to specify the `stop_words` parameter when we use the `TfidfVectorizer` class from scikit-learn (see the next session below)"
   ]
  },
  {
   "cell_type": "code",
   "execution_count": 13,
   "id": "beffc24e",
   "metadata": {
    "scrolled": true
   },
   "outputs": [
    {
     "name": "stdout",
     "output_type": "stream",
     "text": [
      "frozenset({'whereby', 'while', 'side', 'seem', 'thence', 'interest', 'many', 'hereafter', 'least', 'whose', 'could', 'either', 'front', 'detail', 'latter', 'mill', 'whole', 'onto', 'amount', 'per', 'twenty', 'since', 'anyone', 'same', 'each', 'ever', 'behind', 'has', 'elsewhere', 'here', 'and', 'from', 'i', 'me', 'next', 'inc', 'what', 'both', 'sometimes', 'much', 'is', 'put', 'thru', 'must', 'along', 'only', 'somewhere', 'last', 'co', 'eleven', 'system', 'someone', 'thick', 'when', 'other', 'another', 'your', 'own', 'themselves', 'take', 'all', 'himself', 'therein', 'although', 'enough', 'because', 'anyway', 'my', 'further', 'throughout', 'found', 'however', 'made', 'two', 'before', 'him', 'off', 'eg', 'un', 'become', 'de', 'that', 'anywhere', 'twelve', 'which', 'mostly', 'due', 'seeming', 'she', 'almost', 'often', 'are', 'herein', 'formerly', 'fire', 'how', 'through', 'again', 'whatever', 'others', 'five', 'together', 'to', 'wherever', 'back', 'he', 'with', 'yourselves', 'see', 'a', 'ie', 'was', 'then', 'some', 'we', 'eight', 'neither', 'our', 'everywhere', 'also', 'namely', 'somehow', 'something', 'us', 'go', 'her', 'hereupon', 'nobody', 'where', 'into', 'it', 'very', 'until', 'its', 'well', 'or', 'had', 'mine', 'more', 'beyond', 'his', 'ours', 'of', 'upon', 'find', 'between', 'becomes', 'perhaps', 'please', 'indeed', 'their', 'except', 'thereafter', 'top', 'became', 'there', 'myself', 'sincere', 'than', 'one', 'these', 'have', 're', 'done', 'never', 'three', 'amoungst', 'hence', 'you', 'con', 'six', 'even', 'up', 'whenever', 'noone', 'everything', 'beforehand', 'might', 'beside', 'bottom', 'toward', 'sometime', 'via', 'keep', 'latterly', 'alone', 'nine', 'besides', 'hasnt', 'nowhere', 'wherein', 'yours', 'across', 'always', 'show', 'whereafter', 'serious', 'amongst', 'seemed', 'cry', 'seems', 'full', 'afterwards', 'several', 'first', 'such', 'any', 'already', 'them', 'part', 'moreover', 'under', 'if', 'at', 'anyhow', 'below', 'hereby', 'forty', 'for', 'former', 'itself', 'whereupon', 'empty', 'once', 'hundred', 'thus', 'four', 'above', 'around', 'on', 'in', 'still', 'few', 'hers', 'now', 'down', 'name', 'fifty', 'bill', 'can', 'describe', 'within', 'couldnt', 'those', 'who', 'move', 'by', 'ltd', 'anything', 'thin', 'thereupon', 'give', 'rather', 'not', 'call', 'less', 'but', 'sixty', 'do', 'every', 'cant', 'nothing', 'ten', 'after', 'whom', 'during', 'being', 'should', 'why', 'as', 'ourselves', 'been', 'meanwhile', 'will', 'they', 'etc', 'yet', 'over', 'most', 'becoming', 'without', 'am', 'the', 'would', 'whence', 'though', 'else', 'towards', 'an', 'everyone', 'so', 'fill', 'none', 'third', 'about', 'out', 'may', 'be', 'thereby', 'herself', 'otherwise', 'cannot', 'this', 'get', 'among', 'whither', 'whereas', 'no', 'fifteen', 'too', 'nevertheless', 'yourself', 'nor', 'therefore', 'against', 'whoever', 'were', 'whether'})\n"
     ]
    }
   ],
   "source": [
    "print(_stop_words.ENGLISH_STOP_WORDS)"
   ]
  },
  {
   "cell_type": "markdown",
   "id": "e6a59ce4",
   "metadata": {},
   "source": [
    "Besides stop word removal, we will also perform the following steps to reduce the inflectional and derivational forms of words. Note that we will use lemmatization instead of stemming, as it is more accurate.\n",
    "\n",
    "- **Lemmatization**\n",
    "\n",
    "- **Removing numbers and letter-number combinations**\n",
    "\n",
    "- **Removing names**\n",
    "\n",
    "- **Removing words with only one or two letters**"
   ]
  },
  {
   "cell_type": "code",
   "execution_count": 14,
   "id": "4347c6a4",
   "metadata": {},
   "outputs": [],
   "source": [
    "train_cleaned = []\n",
    "lemmatizer = WordNetLemmatizer()\n",
    "all_names = set(names.words())\n",
    "for text in train['Text']:\n",
    "    text = text.lower()\n",
    "    text_cleaned = ' '.join(lemmatizer.lemmatize(word) # lemmatization\n",
    "                            for word in text.split()\n",
    "                            if word.isalpha()  # remove numbers and letter-number combinations\n",
    "                            and word not in all_names # remove names\n",
    "                            and len(word)>3) # words with only one or two letters\n",
    "    train_cleaned.append(text_cleaned)"
   ]
  },
  {
   "cell_type": "markdown",
   "id": "eae832b9",
   "metadata": {},
   "source": [
    "Now we have the \"cleaned\" texts. Let's take a quick look at the words from the first article. "
   ]
  },
  {
   "cell_type": "code",
   "execution_count": 15,
   "id": "a2e356cf",
   "metadata": {},
   "outputs": [
    {
     "data": {
      "text/plain": [
       "'worldcom launch defence lawyer defending former worldcom chief bernie ebbers against battery fraud charge have called company whistleblower their first cynthia cooper worldcom internal accounting alerted director irregular accounting practice telecom giant warning collapse firm following discovery accounting ebbers pleaded guilty charge fraud prosecution lawyer have argued that ebbers orchestrated series accounting trick worldcom ordering employee hide expense inflate revenue meet wall street earnings cooper run consulting business told jury york wednesday that external auditor arthur andersen approved worldcom accounting early said andersen given green light procedure practice used ebber lawyer have said unaware fraud arguing that auditor alert cooper also said that during shareholder meeting ebbers often passed over technical question company finance chief giving only brief answer prosecution star witness former worldcom financial chief scott sullivan said that ebbers ordered accounting adjustment firm telling book however cooper said sullivan mentioned anything uncomfortable about worldcom accounting during audit committee ebbers could face jail sentence year convicted charge worldcom emerged from bankruptcy protection known last week agreed buyout verizon communication deal valued'"
      ]
     },
     "execution_count": 15,
     "metadata": {},
     "output_type": "execute_result"
    }
   ],
   "source": [
    "train_cleaned[0]"
   ]
  },
  {
   "cell_type": "markdown",
   "id": "169bea58",
   "metadata": {},
   "source": [
    "<a id = \"title-four\"></a>\n",
    "# <center><div style=\"border-radius : 10px; background-color: #E69138; color: white; padding: 12px; line-height: 0.6;\">Model Building & Training</div></center>"
   ]
  },
  {
   "cell_type": "markdown",
   "id": "b9a363f9",
   "metadata": {},
   "source": [
    "### Feature Extraction"
   ]
  },
  {
   "cell_type": "markdown",
   "id": "0b4ab2a5",
   "metadata": {},
   "source": [
    "Here we need to convert texts into a matrix where each row represents a BBC news article and each column is a word token. There are multiple approaches to extract features from text in natural language processing (NLP). For example, `word embedding` and `term frequency-inverse document frequency (tf-idf)`. `Word embedding` is able to capture the meanings of words in their context, but it is memory-intensive and more suitable to analyze documents with small size of vocabulary. According to the above EDA, we are dealing with a large amount of news articles with a big size of vocabulary, so we will use the easier and more traditional approach, `tf-idf`. "
   ]
  },
  {
   "cell_type": "markdown",
   "id": "2d49e048",
   "metadata": {},
   "source": [
    "`Tf-idf` considers each document of words (terms) a collection of words, or a bag of words (BoW). It uses the counts of tokens and assigns each tf a weighting factor that is inversely proportionally to the document frequency. With the idf fator included, this method diminishes the weight of common words (such as \"month\" and \"come\") that occur frequently, and emphasizes words that rarely occur but convey important information. In this project, we will take advantage of the TfidfVectorizer class from scikit-learn to perform feature extraction. "
   ]
  },
  {
   "cell_type": "code",
   "execution_count": 16,
   "id": "28158b07",
   "metadata": {},
   "outputs": [],
   "source": [
    "features_n = 2000\n",
    "# As mentioned earlier, here we specify the parameter stop_words as \"english\" to remove the stop words\n",
    "tfidf_vector = TfidfVectorizer(stop_words='english', max_features=features_n, max_df=0.95, min_df=2)"
   ]
  },
  {
   "cell_type": "code",
   "execution_count": 17,
   "id": "16d9a039",
   "metadata": {},
   "outputs": [],
   "source": [
    "tfidf_matrix = tfidf_vector.fit_transform(train_cleaned)"
   ]
  },
  {
   "cell_type": "code",
   "execution_count": 18,
   "id": "47820952",
   "metadata": {},
   "outputs": [
    {
     "data": {
      "text/plain": [
       "<1490x2000 sparse matrix of type '<class 'numpy.float64'>'\n",
       "\twith 113789 stored elements in Compressed Sparse Row format>"
      ]
     },
     "execution_count": 18,
     "metadata": {},
     "output_type": "execute_result"
    }
   ],
   "source": [
    "tfidf_matrix"
   ]
  },
  {
   "cell_type": "markdown",
   "id": "fcb04928",
   "metadata": {},
   "source": [
    "### Non-Negative Matrix Factorization (NMF)"
   ]
  },
  {
   "cell_type": "markdown",
   "id": "dcad64af",
   "metadata": {},
   "source": [
    "Next, we will use a popular topic modeling algorithm, `non-negative matrix factorization (NMF)`, to mine hidden topic in the news articles. \n",
    "\n",
    "NMF factorizes an input matrix, `V`, into a product of two smaller matrices, `W` and `H`, in such a way that these three matrices have no negative values. In the context of this project, these three matrices have the following meanings:\n",
    "\n",
    "- The input matrix `V` is the word (term) count or tf-idf matrix of size n x m, where n is the number of documents and m is the number of words (terms).\n",
    "\n",
    "- The first decomposition output matrix `W` is the coefficient matrix of size n x t. Each row of `W` represents a document, with each element in the row representing the weight of a topic within the document.\n",
    "\n",
    "- The second decomposition output matrix `H` is the feature matrix of size t x m, where t is the number of topics specified. Each row of `H` represents a topic with each element in the row representing the rank of a term in the topic.\n"
   ]
  },
  {
   "cell_type": "code",
   "execution_count": 19,
   "id": "59f53bb4",
   "metadata": {},
   "outputs": [],
   "source": [
    "# build the NMF model\n",
    "topic_n =5\n",
    "nmf = NMF(n_components=topic_n, random_state=2022)"
   ]
  },
  {
   "cell_type": "code",
   "execution_count": 20,
   "id": "b14d6e7c",
   "metadata": {},
   "outputs": [
    {
     "data": {
      "text/plain": [
       "NMF(n_components=5, random_state=2022)"
      ]
     },
     "execution_count": 20,
     "metadata": {},
     "output_type": "execute_result"
    }
   ],
   "source": [
    "# fit the NMF model nmf on the tfidf matrix data\n",
    "nmf.fit(tfidf_matrix)"
   ]
  },
  {
   "cell_type": "markdown",
   "id": "bbe11317",
   "metadata": {},
   "source": [
    "Let's check the top 10 words based on their ranks in each topic."
   ]
  },
  {
   "cell_type": "code",
   "execution_count": 21,
   "id": "cb45e9b5",
   "metadata": {},
   "outputs": [
    {
     "name": "stdout",
     "output_type": "stream",
     "text": [
      "Topic 0\n",
      "rate bank share economy market sale company firm growth said\n",
      "Topic 1\n",
      "nomination festival director actress star oscar actor award best film\n",
      "Topic 2\n",
      "said howard government minister brown tory party election blair labour\n",
      "Topic 3\n",
      "world team play champion match ireland wale player england game\n",
      "Topic 4\n",
      "gadget said digital user service music technology people phone mobile\n"
     ]
    }
   ],
   "source": [
    "words = tfidf_vector.get_feature_names_out()\n",
    "for topic_idx, topic in enumerate(nmf.components_):\n",
    "    print(f'Topic {topic_idx}')\n",
    "    print(' '.join([words[i] for i in topic.argsort()[-10:]]))"
   ]
  },
  {
   "cell_type": "markdown",
   "id": "829f9226",
   "metadata": {},
   "source": [
    "**This is very promising!**\n",
    "\n",
    "We could easily tell that topics 0 to 4 are 'business', 'entertainment', 'politics', 'sport', and 'tech', respectively! "
   ]
  },
  {
   "cell_type": "code",
   "execution_count": 22,
   "id": "a1845755",
   "metadata": {},
   "outputs": [
    {
     "data": {
      "text/plain": [
       "array([[0.00778061, 0.01612073, 0.01093809, ..., 0.        , 0.18582411,\n",
       "        0.        ],\n",
       "       [0.00133318, 0.01430087, 0.00862499, ..., 0.00392154, 0.        ,\n",
       "        0.        ],\n",
       "       [0.02517282, 0.03307176, 0.02381508, ..., 0.01214761, 0.        ,\n",
       "        0.        ],\n",
       "       [0.01185233, 0.03705873, 0.02359824, ..., 0.01213855, 0.        ,\n",
       "        0.06560404],\n",
       "       [0.03329941, 0.08745475, 0.        , ..., 0.0136712 , 0.        ,\n",
       "        0.        ]])"
      ]
     },
     "execution_count": 22,
     "metadata": {},
     "output_type": "execute_result"
    }
   ],
   "source": [
    "# top-feature rank\n",
    "nmf.components_"
   ]
  },
  {
   "cell_type": "markdown",
   "id": "b9fc2f17",
   "metadata": {},
   "source": [
    "`W` is the coefficient matrix of size n x t. Each row of `W` represents a BBC article, with each element in the row representing the weight of a topic within the document."
   ]
  },
  {
   "cell_type": "code",
   "execution_count": 23,
   "id": "f877e56c",
   "metadata": {},
   "outputs": [
    {
     "data": {
      "text/plain": [
       "array([[0.0463311 , 0.00531251, 0.00245952, 0.00368393, 0.01133083],\n",
       "       [0.1466117 , 0.        , 0.        , 0.        , 0.        ],\n",
       "       [0.0952225 , 0.00073719, 0.03369601, 0.02245362, 0.01895822],\n",
       "       ...,\n",
       "       [0.10827237, 0.00695314, 0.        , 0.00685917, 0.        ],\n",
       "       [0.01092026, 0.01023797, 0.        , 0.        , 0.24765746],\n",
       "       [0.00181045, 0.        , 0.        , 0.0013243 , 0.11830499]])"
      ]
     },
     "execution_count": 23,
     "metadata": {},
     "output_type": "execute_result"
    }
   ],
   "source": [
    "W = nmf.fit_transform(tfidf_matrix)\n",
    "W"
   ]
  },
  {
   "cell_type": "markdown",
   "id": "f0ee0634",
   "metadata": {},
   "source": [
    "In each row of the above array, the index of the element with the highest weight is the predicted topic."
   ]
  },
  {
   "cell_type": "code",
   "execution_count": 24,
   "id": "77d9eff4",
   "metadata": {},
   "outputs": [],
   "source": [
    "# For each row of the above array, get the index of the element with the highest weight\n",
    "predicted_topics = [np.argsort(coefficients)[::-1][0] for coefficients in W]"
   ]
  },
  {
   "cell_type": "markdown",
   "id": "7e4b6435",
   "metadata": {},
   "source": [
    "Note here the topic categories are shown as number 0, 1, 2, 3, and 4. Let's take the first article and the last one as examples. "
   ]
  },
  {
   "cell_type": "code",
   "execution_count": 25,
   "id": "3d6e19e2",
   "metadata": {},
   "outputs": [
    {
     "name": "stdout",
     "output_type": "stream",
     "text": [
      "The predicted topic of the first article is: 0.\n",
      "The predicted topic of the last article is: 4.\n"
     ]
    }
   ],
   "source": [
    "print(f\"The predicted topic of the first article is: {predicted_topics[0]}.\")\n",
    "print(f\"The predicted topic of the last article is: {predicted_topics[-1]}.\")"
   ]
  },
  {
   "cell_type": "markdown",
   "id": "ecf99a28",
   "metadata": {},
   "source": [
    "Now let's see how good the model is by checking the **accuracy** score. "
   ]
  },
  {
   "cell_type": "code",
   "execution_count": 26,
   "id": "f073675f",
   "metadata": {},
   "outputs": [],
   "source": [
    "def label_permute_compare(ytdf,yp,n=5):\n",
    "    \"\"\"\n",
    "    A helper function that helps calculate the accuracy based on the predicted results. \n",
    "    ytdf: labels dataframe object\n",
    "    yp: clustering label prediction output\n",
    "    Returns permuted label order and accuracy. \n",
    "    Example output: (3, 4, 1, 2, 0), 0.74 \n",
    "    \"\"\"\n",
    "    best_accuracy = 0\n",
    "    ori_label = np.unique(ytdf['Category'])\n",
    "    for label_permute in list(itertools.permutations(range(5))):\n",
    "        y_true = ytdf['Category'].replace(ori_label, label_permute)\n",
    "        accuracy = accuracy_score(y_true, yp)\n",
    "        if accuracy > best_accuracy:\n",
    "            best_accuracy = accuracy\n",
    "            label_order = label_permute\n",
    "    return label_order, best_accuracy        "
   ]
  },
  {
   "cell_type": "code",
   "execution_count": 27,
   "id": "aea6fd2e",
   "metadata": {},
   "outputs": [
    {
     "name": "stdout",
     "output_type": "stream",
     "text": [
      "(0, 1, 2, 3, 4)\n",
      "['business' 'entertainment' 'politics' 'sport' 'tech']\n",
      "\n",
      " The accuracy score: 0.91!\n"
     ]
    }
   ],
   "source": [
    "best_accuracy = 0\n",
    "ori_label = np.unique(train['Category'])\n",
    "for label_permute in list(itertools.permutations(range(5))):\n",
    "    y_true = train['Category'].replace(ori_label, label_permute)\n",
    "    accuracy = accuracy_score(y_true, predicted_topics)\n",
    "    if accuracy > best_accuracy:\n",
    "        best_accuracy = accuracy\n",
    "        label_order = label_permute\n",
    "print(label_order)\n",
    "print(ori_label)\n",
    "print(f\"\\n The accuracy score: {best_accuracy.round(2)}!\")"
   ]
  },
  {
   "cell_type": "markdown",
   "id": "3cbf3a84",
   "metadata": {},
   "source": [
    "### Hyperparameter Optimization"
   ]
  },
  {
   "cell_type": "markdown",
   "id": "62249b89",
   "metadata": {},
   "source": [
    "We get an accuracy of 0.91 which is not bad. Next we will perform some hyperparameter tuning to try to improve the accuracy score. We will mainly focus on three parameters, `l1_ratio`, `alpha_w`, and `alpha_H` (same as alpha_w). "
   ]
  },
  {
   "cell_type": "code",
   "execution_count": 28,
   "id": "2d85ae64",
   "metadata": {},
   "outputs": [],
   "source": [
    "# Create a table to visualize the tuning results.\n",
    "hparam_tuning = pd.DataFrame(columns = ['l1_ratio','alpha_w', 'accuracy'])"
   ]
  },
  {
   "cell_type": "code",
   "execution_count": 29,
   "id": "8048482a",
   "metadata": {},
   "outputs": [],
   "source": [
    "%%capture --no-display\n",
    "def NMF_GridSearch(hparam_tuning):\n",
    "    for l1_ratio in np.arange(0, 1.1, 0.3):\n",
    "        for alpha_w in np.arange(0, 1.1, 0.3):\n",
    "            nmf = NMF(n_components = 5, random_state=42, max_iter=10000,\n",
    "                      alpha_W=alpha_w, alpha_H = 'same', l1_ratio=l1_ratio)\n",
    "            W = nmf.fit_transform(tfidf_matrix)\n",
    "            predicted_topics = [np.argsort(coefficients)[::-1][0] for coefficients in W]\n",
    "            permutation_accuracy = label_permute_compare(train,predicted_topics,n=5)\n",
    "            accuracy = permutation_accuracy[1]\n",
    "            hparam_tuning.loc[len(hparam_tuning.index)] = [l1_ratio, alpha_w, accuracy]\n",
    "    print(hparam_tuning)     "
   ]
  },
  {
   "cell_type": "code",
   "execution_count": 30,
   "id": "05944c28",
   "metadata": {},
   "outputs": [
    {
     "name": "stdout",
     "output_type": "stream",
     "text": [
      "Confusion Matrix:\n",
      " [[  1   4   1  17 238]\n",
      " [  0   2   0 344   0]\n",
      " [  8   0 250  10   6]\n",
      " [  5 212   3  15  38]\n",
      " [309   1   6   5  15]]\n"
     ]
    }
   ],
   "source": [
    "confusion = confusion_matrix(y_true, predicted_topics)\n",
    "print(f\"Confusion Matrix:\\n {confusion}\")"
   ]
  },
  {
   "cell_type": "markdown",
   "id": "1d34f09b",
   "metadata": {},
   "source": [
    "The table below summarizes the tuning results. Here we try to use different parameter values, for example, l1_ratio= 0.6 and alpha_w = 0, but it seems that we are not able to further improve the accuracy score. "
   ]
  },
  {
   "cell_type": "code",
   "execution_count": 31,
   "id": "ccf5d32d",
   "metadata": {},
   "outputs": [
    {
     "name": "stdout",
     "output_type": "stream",
     "text": [
      "    l1_ratio  alpha_w  accuracy\n",
      "0        0.0      0.0  0.908054\n",
      "1        0.0      0.3  0.232215\n",
      "2        0.0      0.6  0.232215\n",
      "3        0.0      0.9  0.232215\n",
      "4        0.3      0.0  0.908054\n",
      "5        0.3      0.3  0.232215\n",
      "6        0.3      0.6  0.232215\n",
      "7        0.3      0.9  0.232215\n",
      "8        0.6      0.0  0.908054\n",
      "9        0.6      0.3  0.232215\n",
      "10       0.6      0.6  0.232215\n",
      "11       0.6      0.9  0.232215\n",
      "12       0.9      0.0  0.908054\n",
      "13       0.9      0.3  0.232215\n",
      "14       0.9      0.6  0.232215\n",
      "15       0.9      0.9  0.232215\n"
     ]
    }
   ],
   "source": [
    "NMF_GridSearch(hparam_tuning)"
   ]
  },
  {
   "cell_type": "markdown",
   "id": "b6d94135",
   "metadata": {},
   "source": [
    "## Comparison with Supervised Learning Models"
   ]
  },
  {
   "cell_type": "markdown",
   "id": "cbaee776",
   "metadata": {},
   "source": [
    "Next we will compare the unsupervised learning model with some supervised learning models. "
   ]
  },
  {
   "cell_type": "markdown",
   "id": "53c34edd",
   "metadata": {},
   "source": [
    "### Random Forest Model"
   ]
  },
  {
   "cell_type": "code",
   "execution_count": 32,
   "id": "656add63",
   "metadata": {},
   "outputs": [],
   "source": [
    "def random_forest(test_size):\n",
    "    X_train, X_test, y_train, y_test = train_test_split(train['Text'], train['Category'], \n",
    "                                       test_size=test_size, random_state=2022)\n",
    "    X_train = tfidf_vector.transform(X_train)\n",
    "    label_encoder = LabelEncoder()\n",
    "    y_train = label_encoder.fit_transform(y_train)\n",
    "    X_test = tfidf_vector.transform(X_test)\n",
    "    y_test = label_encoder.fit_transform(y_test)\n",
    "    random_forest = RandomForestClassifier(max_depth=5, random_state=2022)\n",
    "    rf_model = random_forest.fit(X_train, y_train)\n",
    "\n",
    "    acc = accuracy_score(y_test, rf_model.predict(X_test))\n",
    "    y_pred = rf_model.predict(X_test)\n",
    "    return y_test, y_pred, acc"
   ]
  },
  {
   "cell_type": "code",
   "execution_count": 33,
   "id": "30f7a5cc",
   "metadata": {},
   "outputs": [
    {
     "name": "stdout",
     "output_type": "stream",
     "text": [
      "CPU times: user 22 µs, sys: 4 µs, total: 26 µs\n",
      "Wall time: 7.15 µs\n",
      "\n",
      " Confusion Matrix, Test Size =0.1\n",
      "[[27  0  0  0  2]\n",
      " [ 4 25  2  2  2]\n",
      " [ 1  1 22  0  1]\n",
      " [ 2  0  0 30  0]\n",
      " [ 3  0  0  0 25]]\n",
      "\n",
      " Confusion Matrix, Test Size =0.2\n",
      "[[61  0  1  0  1]\n",
      " [ 9 50  2  8  3]\n",
      " [ 5  0 42  1  1]\n",
      " [ 1  0  1 65  0]\n",
      " [ 3  1  0  0 43]]\n",
      "\n",
      " Confusion Matrix, Test Size =0.3\n",
      "[[94  0  2  0  1]\n",
      " [14 63  1  6  7]\n",
      " [ 8  0 66  1  1]\n",
      " [ 5  0  2 99  0]\n",
      " [ 5  1  0  2 70]]\n",
      "\n",
      " Confusion Matrix, Test Size =0.4\n",
      "[[125   0   2   0   1]\n",
      " [ 17  88   1   6   4]\n",
      " [ 10   0  96   2   1]\n",
      " [  7   1   1 132   0]\n",
      " [  8   1   0   2  91]]\n",
      "\n",
      " Confusion Matrix, Test Size =0.5\n",
      "[[155   0   1   0   6]\n",
      " [ 22 100   1   9  10]\n",
      " [ 11   0 121   3   2]\n",
      " [  9   1   1 166   0]\n",
      " [ 12   1   0   1 113]]\n",
      "\n",
      " Confusion Matrix, Test Size =0.6\n",
      "[[193   0   4   2   5]\n",
      " [  9 134   1  16   3]\n",
      " [ 14   0 142   8   2]\n",
      " [  4   0   2 198   0]\n",
      " [ 11   2   0   5 139]]\n",
      "\n",
      " Confusion Matrix, Test Size =0.7\n",
      "[[224   0   3   2   5]\n",
      " [ 18 147   2  17   5]\n",
      " [ 22   0 168   4   2]\n",
      " [ 10   4   1 233   0]\n",
      " [ 12   2   0   5 157]]\n",
      "\n",
      " Confusion Matrix, Test Size =0.8\n",
      "[[251   1   6   4  10]\n",
      " [  6 182   0  18   7]\n",
      " [ 25   2 185   4  11]\n",
      " [ 10   3   2 263   3]\n",
      " [ 10   1   0   7 181]]\n",
      "\n",
      " Confusion Matrix, Test Size =0.9\n",
      "[[274   8   2   3  15]\n",
      " [  6 201   1  21  13]\n",
      " [ 57  10 162   8  19]\n",
      " [  8  17   0 280   6]\n",
      " [ 12   5   0  13 200]]\n"
     ]
    },
    {
     "data": {
      "text/html": [
       "<div>\n",
       "<style scoped>\n",
       "    .dataframe tbody tr th:only-of-type {\n",
       "        vertical-align: middle;\n",
       "    }\n",
       "\n",
       "    .dataframe tbody tr th {\n",
       "        vertical-align: top;\n",
       "    }\n",
       "\n",
       "    .dataframe thead th {\n",
       "        text-align: right;\n",
       "    }\n",
       "</style>\n",
       "<table border=\"1\" class=\"dataframe\">\n",
       "  <thead>\n",
       "    <tr style=\"text-align: right;\">\n",
       "      <th></th>\n",
       "      <th>Test Size(%)</th>\n",
       "      <th>Accuracy</th>\n",
       "    </tr>\n",
       "  </thead>\n",
       "  <tbody>\n",
       "    <tr>\n",
       "      <th>0</th>\n",
       "      <td>10.0</td>\n",
       "      <td>0.865772</td>\n",
       "    </tr>\n",
       "    <tr>\n",
       "      <th>1</th>\n",
       "      <td>20.0</td>\n",
       "      <td>0.875839</td>\n",
       "    </tr>\n",
       "    <tr>\n",
       "      <th>2</th>\n",
       "      <td>30.0</td>\n",
       "      <td>0.875000</td>\n",
       "    </tr>\n",
       "    <tr>\n",
       "      <th>3</th>\n",
       "      <td>40.0</td>\n",
       "      <td>0.892617</td>\n",
       "    </tr>\n",
       "    <tr>\n",
       "      <th>4</th>\n",
       "      <td>50.0</td>\n",
       "      <td>0.879195</td>\n",
       "    </tr>\n",
       "    <tr>\n",
       "      <th>5</th>\n",
       "      <td>60.0</td>\n",
       "      <td>0.901566</td>\n",
       "    </tr>\n",
       "    <tr>\n",
       "      <th>6</th>\n",
       "      <td>70.0</td>\n",
       "      <td>0.890700</td>\n",
       "    </tr>\n",
       "    <tr>\n",
       "      <th>7</th>\n",
       "      <td>80.0</td>\n",
       "      <td>0.890940</td>\n",
       "    </tr>\n",
       "    <tr>\n",
       "      <th>8</th>\n",
       "      <td>90.0</td>\n",
       "      <td>0.832960</td>\n",
       "    </tr>\n",
       "  </tbody>\n",
       "</table>\n",
       "</div>"
      ],
      "text/plain": [
       "   Test Size(%)  Accuracy\n",
       "0          10.0  0.865772\n",
       "1          20.0  0.875839\n",
       "2          30.0  0.875000\n",
       "3          40.0  0.892617\n",
       "4          50.0  0.879195\n",
       "5          60.0  0.901566\n",
       "6          70.0  0.890700\n",
       "7          80.0  0.890940\n",
       "8          90.0  0.832960"
      ]
     },
     "execution_count": 33,
     "metadata": {},
     "output_type": "execute_result"
    }
   ],
   "source": [
    "%time\n",
    "RF_df = pd.DataFrame(columns = ['Test Size(%)','Accuracy'])\n",
    "for i in np.arange(0.1,1,0.1):\n",
    "    y_test, y_pred, acc = random_forest(i)\n",
    "    RF_df.loc[len(RF_df.index)] = [i*100, acc]\n",
    "    confusion = confusion_matrix(y_test, y_pred)\n",
    "    print(f\"\\n Confusion Matrix, Test Size ={i.round(2)}\")\n",
    "    print(confusion)\n",
    "RF_df"
   ]
  },
  {
   "cell_type": "markdown",
   "id": "3435aea7",
   "metadata": {},
   "source": [
    "### Logistic Regression"
   ]
  },
  {
   "cell_type": "code",
   "execution_count": 34,
   "id": "9673bf38",
   "metadata": {},
   "outputs": [],
   "source": [
    "def logistic_regression(test_size):\n",
    "    X_train, X_test, y_train, y_test = train_test_split(train['Text'], train['Category'], \n",
    "                                       test_size=test_size, random_state=2022)\n",
    "    X_train = tfidf_vector.transform(X_train)\n",
    "    label_encoder = LabelEncoder()\n",
    "    y_train = label_encoder.fit_transform(y_train)\n",
    "    X_test = tfidf_vector.transform(X_test)\n",
    "    y_test = label_encoder.fit_transform(y_test)\n",
    "    logistic_regression = LogisticRegression(C=1e5)\n",
    "    lr_model = logistic_regression.fit(X_train, y_train)\n",
    "    acc = accuracy_score(y_test, lr_model.predict(X_test))\n",
    "    y_pred = lr_model.predict(X_test)\n",
    "    return y_test, y_pred, acc"
   ]
  },
  {
   "cell_type": "code",
   "execution_count": 35,
   "id": "1611b14a",
   "metadata": {},
   "outputs": [
    {
     "name": "stdout",
     "output_type": "stream",
     "text": [
      "CPU times: user 1e+03 ns, sys: 0 ns, total: 1e+03 ns\n",
      "Wall time: 4.05 µs\n",
      "\n",
      " Confusion Matrix, Test Size =0.1\n",
      "[[28  0  0  0  1]\n",
      " [ 1 33  1  0  0]\n",
      " [ 0  0 24  0  1]\n",
      " [ 0  0  1 31  0]\n",
      " [ 1  0  0  0 27]]\n",
      "\n",
      " Confusion Matrix, Test Size =0.2\n",
      "[[61  0  1  0  1]\n",
      " [ 2 67  2  0  1]\n",
      " [ 3  0 45  0  1]\n",
      " [ 0  0  0 67  0]\n",
      " [ 1  1  0  0 45]]\n",
      "\n",
      " Confusion Matrix, Test Size =0.3\n",
      "[[ 95   0   1   0   1]\n",
      " [  3  84   1   1   2]\n",
      " [  3   1  71   0   1]\n",
      " [  1   0   1 104   0]\n",
      " [  2   1   0   0  75]]\n",
      "\n",
      " Confusion Matrix, Test Size =0.4\n",
      "[[124   0   2   0   2]\n",
      " [  3 109   1   1   2]\n",
      " [  3   1 103   1   1]\n",
      " [  1   0   2 138   0]\n",
      " [  3   1   1   0  97]]\n",
      "\n",
      " Confusion Matrix, Test Size =0.5\n",
      "[[158   0   2   0   2]\n",
      " [  3 135   2   1   1]\n",
      " [  3   1 131   1   1]\n",
      " [  1   0   2 174   0]\n",
      " [  3   1   1   0 122]]\n",
      "\n",
      " Confusion Matrix, Test Size =0.6\n",
      "[[197   0   4   1   2]\n",
      " [  3 156   0   1   3]\n",
      " [  4   1 159   1   1]\n",
      " [  1   0   2 201   0]\n",
      " [  2   1   1   0 153]]\n",
      "\n",
      " Confusion Matrix, Test Size =0.7\n",
      "[[224   0   4   1   5]\n",
      " [  3 181   2   1   2]\n",
      " [  5   1 186   1   3]\n",
      " [  1   0   2 245   0]\n",
      " [  4   1   2   1 168]]\n",
      "\n",
      " Confusion Matrix, Test Size =0.8\n",
      "[[250   1  11   1   9]\n",
      " [  3 203   1   1   5]\n",
      " [  4   3 215   1   4]\n",
      " [  1   0   2 278   0]\n",
      " [  4   2   4   1 188]]\n",
      "\n",
      " Confusion Matrix, Test Size =0.9\n",
      "[[277   2   6   1  16]\n",
      " [  4 226   1   1  10]\n",
      " [ 18   8 212   8  10]\n",
      " [  1   1   0 309   0]\n",
      " [  6   5   1   0 218]]\n"
     ]
    },
    {
     "data": {
      "text/html": [
       "<div>\n",
       "<style scoped>\n",
       "    .dataframe tbody tr th:only-of-type {\n",
       "        vertical-align: middle;\n",
       "    }\n",
       "\n",
       "    .dataframe tbody tr th {\n",
       "        vertical-align: top;\n",
       "    }\n",
       "\n",
       "    .dataframe thead th {\n",
       "        text-align: right;\n",
       "    }\n",
       "</style>\n",
       "<table border=\"1\" class=\"dataframe\">\n",
       "  <thead>\n",
       "    <tr style=\"text-align: right;\">\n",
       "      <th></th>\n",
       "      <th>Test Size(%)</th>\n",
       "      <th>Accuracy</th>\n",
       "    </tr>\n",
       "  </thead>\n",
       "  <tbody>\n",
       "    <tr>\n",
       "      <th>0</th>\n",
       "      <td>10.0</td>\n",
       "      <td>0.959732</td>\n",
       "    </tr>\n",
       "    <tr>\n",
       "      <th>1</th>\n",
       "      <td>20.0</td>\n",
       "      <td>0.956376</td>\n",
       "    </tr>\n",
       "    <tr>\n",
       "      <th>2</th>\n",
       "      <td>30.0</td>\n",
       "      <td>0.957589</td>\n",
       "    </tr>\n",
       "    <tr>\n",
       "      <th>3</th>\n",
       "      <td>40.0</td>\n",
       "      <td>0.958054</td>\n",
       "    </tr>\n",
       "    <tr>\n",
       "      <th>4</th>\n",
       "      <td>50.0</td>\n",
       "      <td>0.966443</td>\n",
       "    </tr>\n",
       "    <tr>\n",
       "      <th>5</th>\n",
       "      <td>60.0</td>\n",
       "      <td>0.968680</td>\n",
       "    </tr>\n",
       "    <tr>\n",
       "      <th>6</th>\n",
       "      <td>70.0</td>\n",
       "      <td>0.962608</td>\n",
       "    </tr>\n",
       "    <tr>\n",
       "      <th>7</th>\n",
       "      <td>80.0</td>\n",
       "      <td>0.951342</td>\n",
       "    </tr>\n",
       "    <tr>\n",
       "      <th>8</th>\n",
       "      <td>90.0</td>\n",
       "      <td>0.926174</td>\n",
       "    </tr>\n",
       "  </tbody>\n",
       "</table>\n",
       "</div>"
      ],
      "text/plain": [
       "   Test Size(%)  Accuracy\n",
       "0          10.0  0.959732\n",
       "1          20.0  0.956376\n",
       "2          30.0  0.957589\n",
       "3          40.0  0.958054\n",
       "4          50.0  0.966443\n",
       "5          60.0  0.968680\n",
       "6          70.0  0.962608\n",
       "7          80.0  0.951342\n",
       "8          90.0  0.926174"
      ]
     },
     "execution_count": 35,
     "metadata": {},
     "output_type": "execute_result"
    }
   ],
   "source": [
    "%time\n",
    "LR_df = pd.DataFrame(columns = ['Test Size(%)','Accuracy'])\n",
    "for i in np.arange(0.1,1,0.1):\n",
    "    y_test, y_pred, acc = logistic_regression(i)\n",
    "    LR_df.loc[len(LR_df.index)] = [i*100, acc]\n",
    "    confusion = confusion_matrix(y_test, y_pred)\n",
    "    print(f\"\\n Confusion Matrix, Test Size ={i.round(2)}\")\n",
    "    print(confusion)\n",
    "LR_df"
   ]
  },
  {
   "cell_type": "markdown",
   "id": "372add18",
   "metadata": {},
   "source": [
    "<a id = \"title-five\"></a>\n",
    "# <center><div style=\"border-radius : 10px; background-color: #E69138; color: white; padding: 12px; line-height: 0.6;\">Conclusions</div></center>"
   ]
  },
  {
   "cell_type": "markdown",
   "id": "9410ff23",
   "metadata": {},
   "source": [
    "###  <center> Comparison between NMF and unsupervised learning models\n",
    "\n",
    "|Model|Accuracy Score||\n",
    "|----|----|----|\n",
    "|Non-negative matrix factorization|0.91|\n",
    "|Random Forest|0.90|\n",
    "|Logistic Regression|0.97|\n",
    "\n",
    "- It seems that supervised learning (Logistic Regression) performs better (higher accuracy score) compared to unsupervised learning (NMF). \n",
    "- In terms of data efficiency, for the current dataset, it seems that Logistic Regression is better than Random Forest. \n",
    "- When we changed the train/test data size, for both Random Forest and Logistic Regression, they began to show overfitting if the training data set is higher than 40%. "
   ]
  },
  {
   "cell_type": "markdown",
   "id": "c5ebbe90",
   "metadata": {},
   "source": [
    "<a id = \"title-six\"></a>\n",
    "# <center><div style=\"border-radius : 10px; background-color: #E69138; color: white; padding: 12px; line-height: 0.6;\">Reference</div></center>"
   ]
  },
  {
   "cell_type": "markdown",
   "id": "44abb61f",
   "metadata": {},
   "source": [
    "https://images.unsplash.com/photo-1504711434969-e33886168f5c?ixlib=rb-4.0.3&ixid=MnwxMjA3fDB8MHxwaG90by1wYWdlfHx8fGVufDB8fHx8&auto=format&fit=crop&w=1170&q=80\n",
    "\n",
    "https://predictivehacks.com/topic-modelling-with-nmf-in-python/\n",
    "\n",
    "https://cloud.google.com/blog/products/ai-machine-learning/problem-solving-with-ml-automatic-document-classification\n",
    "\n",
    "https://notebook.community/davidgutierrez/HeartRatePatterns/Jupyter/Non-Negative%20Matrix%20Factorization%20(NMF)\n",
    "\n",
    "https://scikit-learn.org/stable/modules/generated/sklearn.ensemble.RandomForestClassifier.html\n",
    "\n",
    "https://scikit-learn.org/stable/auto_examples/linear_model/plot_iris_logistic.html#sphx-glr-auto-examples-linear-model-plot-iris-logistic-py\n",
    "\n",
    "Yuxi Liu, Python Machine Learning By Example, 2020"
   ]
  },
  {
   "cell_type": "markdown",
   "id": "1cd2e375",
   "metadata": {},
   "source": [
    "### ☝️ [**Back to Table of Contents**](#table)"
   ]
  }
 ],
 "metadata": {
  "finalized": {
   "timestamp": 1673912780335,
   "trusted": false
  },
  "kernelspec": {
   "display_name": "Python 3 (ipykernel)",
   "language": "python",
   "name": "python3"
  },
  "language_info": {
   "codemirror_mode": {
    "name": "ipython",
    "version": 3
   },
   "file_extension": ".py",
   "mimetype": "text/x-python",
   "name": "python",
   "nbconvert_exporter": "python",
   "pygments_lexer": "ipython3",
   "version": "3.9.13"
  },
  "varInspector": {
   "cols": {
    "lenName": 16,
    "lenType": 16,
    "lenVar": 40
   },
   "kernels_config": {
    "python": {
     "delete_cmd_postfix": "",
     "delete_cmd_prefix": "del ",
     "library": "var_list.py",
     "varRefreshCmd": "print(var_dic_list())"
    },
    "r": {
     "delete_cmd_postfix": ") ",
     "delete_cmd_prefix": "rm(",
     "library": "var_list.r",
     "varRefreshCmd": "cat(var_dic_list()) "
    }
   },
   "types_to_exclude": [
    "module",
    "function",
    "builtin_function_or_method",
    "instance",
    "_Feature"
   ],
   "window_display": false
  }
 },
 "nbformat": 4,
 "nbformat_minor": 5
}
